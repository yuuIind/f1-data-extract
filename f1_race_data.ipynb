{
 "cells": [
  {
   "attachments": {},
   "cell_type": "markdown",
   "metadata": {},
   "source": [
    "# 1. Import Libraries\n",
    "\n",
    "---\n",
    "\n",
    "For this task, `FastF1` module will be used. FastF1 provides us with access to a significant amount of data associated with F1, including lap timing, car telemetry and position, tire information, and numerous other data points.\n",
    "\n",
    "Because it is built using Pandas, Numpy, and Matplotlib, the module is user-friendly and provides ample opportunities for data analysis and visualization.\n",
    "\n",
    "Please refer to the following website for additional information:\n",
    "> [FastF1 documentation](theoehrly.github.io/Fast-F1)\n",
    "\n",
    "> [FastF1 github page](https://github.com/theOehrly/Fast-F1)"
   ]
  },
  {
   "cell_type": "code",
   "execution_count": null,
   "metadata": {},
   "outputs": [],
   "source": [
    "import csv\n",
    "import fastf1\n",
    "import pandas as pd\n",
    "\n",
    "print(f\"fastf1 version is {fastf1.__version__}\")"
   ]
  },
  {
   "attachments": {},
   "cell_type": "markdown",
   "metadata": {},
   "source": [
    "As of the moment when this notebook is being written, FastF1 version 2.3.1 is being used."
   ]
  },
  {
   "attachments": {},
   "cell_type": "markdown",
   "metadata": {},
   "source": [
    "# 2. Set up:\n",
    "\n",
    "---\n",
    "\n",
    "Enabling the cache is not mandatory, but it is strongly recommended by developers of the library. You can provide the path to an empty folder on your system. Utilizing the cache will significantly increase the speed of data loading. Once you have enabled the cache, you can define the races and sessions from which you want to extract data."
   ]
  },
  {
   "cell_type": "code",
   "execution_count": null,
   "metadata": {},
   "outputs": [],
   "source": [
    "# Enable the usage of the cache\n",
    "path = './cache'\n",
    "fastf1.Cache.enable_cache(path)"
   ]
  },
  {
   "attachments": {},
   "cell_type": "markdown",
   "metadata": {},
   "source": [
    "In the `races` list, you can specify the races and sessions from which you wish to extract data.\n",
    "- `year` : represents the year in which the race is taking place.\n",
    "- `name` : represents the name of the race event.\n",
    "- `sessions` : a list of strings, which represents the different sessions of the race event for which data is to be extracted. The available sessions are `FP1` (Free Practice 1), `FP2` (Free Practice 2), `FP3` (Free Practice 3), `Q` (Qualifying) and `R` (Race).\n"
   ]
  },
  {
   "cell_type": "code",
   "execution_count": null,
   "metadata": {},
   "outputs": [],
   "source": [
    "# Define the races and sessions to extract data for\n",
    "races = [\n",
    "    {'year': 2023, 'name': 'Bahrain', 'sessions': ['FP1', 'FP2', 'FP3', 'Q', 'R']},\n",
    "    {'year': 2023, 'name': 'Saudi Arabia', 'sessions': ['FP1', 'FP2', 'FP3', 'Q', 'R']},\n",
    "    {'year': 2023, 'name': 'Australia', 'sessions': ['FP1', 'FP2', 'FP3', 'Q', 'R']}\n",
    "]\n",
    "\n",
    "# Create an empty list to store the data\n",
    "data = []"
   ]
  },
  {
   "attachments": {},
   "cell_type": "markdown",
   "metadata": {},
   "source": [
    "# 3. Load the lap data:\n",
    "\n",
    "---\n",
    "\n",
    "For each race, we iterate over the sessions of that race. Then, We use the `fastf1` library to load the data for the specified race and session. Next step is filtering out inaccurate laps. For information on what constitutes an accurate lap, please refer to the [documentation](https://theoehrly.github.io/Fast-F1/core.html#laps) for `FastF1`. Then, the code iterates over the accurate laps and appends the relevant data for each lap to the its corresponding list. Finally, the extracted data is appended as a dictionary to the `data` list.\n",
    "\n",
    "\n",
    "In summary, the code extracts telemetry data for laps during Formula 1 races and arranges the information into a list of dictionaries. Each dictionary represents a race session and contains information such as lap times, sector times, team, driver, and other relevant data."
   ]
  },
  {
   "cell_type": "code",
   "execution_count": null,
   "metadata": {},
   "outputs": [],
   "source": [
    "# Load lap data and extract telemetry data for all sessions and races\n",
    "for race in races:\n",
    "    for session in race['sessions']:\n",
    "        laps = fastf1.get_session(race['year'], race['name'], session)\n",
    "        laps.load(weather=False, messages=False)\n",
    "\n",
    "        # filtering out inaccurate (please check fastf1 documentation)\n",
    "        accurate_laps = laps.laps.loc[laps.laps.IsAccurate == True]\n",
    "\n",
    "\n",
    "        # Extract lap times and telemetry data for all laps\n",
    "        lap_number = []\n",
    "        lap_times = []\n",
    "        sector1_times = []\n",
    "        sector2_times = []\n",
    "        sector3_times = []\n",
    "        team = []\n",
    "        driver = []\n",
    "        driver_number = []\n",
    "        compound = []\n",
    "        tyre_life = []\n",
    "        gear_shifts = []\n",
    "        braking = []\n",
    "        throttle = []\n",
    "\n",
    "        for lap_num in range(len(accurate_laps)):\n",
    "            lap = accurate_laps.iloc[lap_num]\n",
    "            lap_number.append(lap.loc['LapNumber'])\n",
    "            lap_times.append(lap.loc['LapTime'])\n",
    "            sector1_times.append(lap.loc['Sector1Time'])\n",
    "            sector2_times.append(lap.loc['Sector2Time'])\n",
    "            sector3_times.append(lap.loc['Sector3Time'])\n",
    "            team.append(lap.loc['Team'])\n",
    "            driver.append(lap.loc['Driver'])\n",
    "            driver_number.append(lap.loc['DriverNumber'])\n",
    "            compound.append(lap.loc['Compound'])\n",
    "            tyre_life.append(lap.loc['TyreLife'])\n",
    "\n",
    "        data.append({\n",
    "                        'year' : race['year'],\n",
    "                        'race' : race['name'],\n",
    "                        'session' : session,\n",
    "                        'team' : team,\n",
    "                        'driver' : driver,\n",
    "                        'driver_number' : driver_number,\n",
    "                        'compound' : compound,\n",
    "                        'tyre_life' : tyre_life,\n",
    "                        'lap_number' : lap_number,\n",
    "                        'lap_times' : lap_times,\n",
    "                        'sector1_times' : sector1_times,\n",
    "                        'sector2_times' : sector2_times,\n",
    "                        'sector3_times' : sector3_times,\n",
    "                    })"
   ]
  },
  {
   "attachments": {},
   "cell_type": "markdown",
   "metadata": {},
   "source": [
    "# 4. Save the data into a CSV file: \n",
    "\n",
    "---\n",
    "\n",
    "\n",
    "In this section, the code below writes the previously extracted data to a CSV file. It begins by creating a new file called \"telemetry_data.csv\" in write mode using the `csv.writer()` function from the Python `csv` module. Next, we write a header row to the file that includes the column names for our data.\n",
    "\n",
    "Then, We iterate through each race's data in the `data` list and extracts the necessary information for each row in the CSV file. The code iterates through the data for each lap in every race and writes a new row to the CSV file that includes the relevant data for that specific lap."
   ]
  },
  {
   "cell_type": "code",
   "execution_count": null,
   "metadata": {},
   "outputs": [],
   "source": [
    "# Open the CSV file in write mode\n",
    "with open('telemetry_data.csv', mode='w', newline='') as file:\n",
    "\n",
    "    # Create a writer object\n",
    "    writer = csv.writer(file)\n",
    "\n",
    "    # Write the header row\n",
    "    writer.writerow([\n",
    "                        'Year', 'Race', 'Session', 'Team', 'Driver', \n",
    "                        'Driver Number', 'Compound', 'Tyre Life', 'Lap Number', \n",
    "                        'Lap Times', 'Sector 1 Times', 'Sector 2 Times', \n",
    "                        'Sector 3 Times'\n",
    "                    ])\n",
    "\n",
    "    # Write the data rows\n",
    "    for race_data in data:\n",
    "        year = race_data['year']\n",
    "        race = race_data['race']\n",
    "        session = race_data['session']\n",
    "\n",
    "        for i in range(len(race_data['team'])):\n",
    "            team = race_data['team'][i]\n",
    "            driver = race_data['driver'][i]\n",
    "            driver_number = race_data['driver_number'][i]\n",
    "            compound = race_data['compound'][i]\n",
    "            tyre_life = race_data['tyre_life'][i]\n",
    "            lap_number = race_data['lap_number'][i]\n",
    "            lap_times = race_data['lap_times'][i]\n",
    "            sector1_times = race_data['sector1_times'][i]\n",
    "            sector2_times = race_data['sector2_times'][i]\n",
    "            sector3_times = race_data['sector3_times'][i]\n",
    "\n",
    "            writer.writerow([\n",
    "                                year, race, session, team, driver, \n",
    "                                driver_number, compound, tyre_life, lap_number,\n",
    "                                lap_times, sector1_times, sector2_times, \n",
    "                                sector3_times\n",
    "                            ])\n"
   ]
  },
  {
   "attachments": {},
   "cell_type": "markdown",
   "metadata": {},
   "source": [
    "Now, Let's format the time columns as `minute:second.decimal`."
   ]
  },
  {
   "cell_type": "code",
   "execution_count": null,
   "metadata": {},
   "outputs": [],
   "source": [
    "# Load CSV file into a DataFrame\n",
    "df = pd.read_csv('telemetry_data.csv')\n",
    "\n",
    "# Define a function to convert string to minute:second.decimal format\n",
    "def convert_to_time(time_str):\n",
    "    parts = time_str.split(' ')\n",
    "    days = int(parts[0])\n",
    "    time = parts[2]\n",
    "    hours, minutes, seconds = map(float, time.split(':'))\n",
    "    total_seconds = days * 24 * 60 * 60 + hours * 60 * 60 + minutes * 60 + seconds\n",
    "    minutes = int(total_seconds // 60)\n",
    "    seconds = total_seconds % 60\n",
    "    return f'{minutes:02d}:{seconds:.3f}'  # Format the output as \"minute:second.decimal\"\n",
    "\n",
    "# Apply the function to 'Lap Times', 'Sector 1 Times', 'Sector 2 Times', 'Sector 3 Times' columns\n",
    "df['Lap Times'] = df['Lap Times'].apply(convert_to_time)\n",
    "df['Sector 1 Times'] = df['Sector 1 Times'].apply(convert_to_time)\n",
    "df['Sector 2 Times'] = df['Sector 2 Times'].apply(convert_to_time)\n",
    "df['Sector 3 Times'] = df['Sector 3 Times'].apply(convert_to_time)\n",
    "\n",
    "# Save the updated data to a new CSV file\n",
    "df.to_csv('telemetry_data.csv', index=False)"
   ]
  },
  {
   "attachments": {},
   "cell_type": "markdown",
   "metadata": {},
   "source": [
    "For the finale we clear the cache."
   ]
  },
  {
   "cell_type": "code",
   "execution_count": null,
   "metadata": {},
   "outputs": [],
   "source": [
    "# Delete the usage of the cache\n",
    "fastf1.Cache.clear_cache(path, deep=True)"
   ]
  }
 ],
 "metadata": {
  "kernelspec": {
   "display_name": "Python 3",
   "language": "python",
   "name": "python3"
  },
  "language_info": {
   "codemirror_mode": {
    "name": "ipython",
    "version": 3
   },
   "file_extension": ".py",
   "mimetype": "text/x-python",
   "name": "python",
   "nbconvert_exporter": "python",
   "pygments_lexer": "ipython3",
   "version": "3.11.1"
  },
  "orig_nbformat": 4
 },
 "nbformat": 4,
 "nbformat_minor": 2
}
